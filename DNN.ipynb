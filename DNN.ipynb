{
  "nbformat": 4,
  "nbformat_minor": 0,
  "metadata": {
    "colab": {
      "provenance": [],
      "include_colab_link": true
    },
    "kernelspec": {
      "name": "python3",
      "display_name": "Python 3"
    },
    "language_info": {
      "name": "python"
    }
  },
  "cells": [
    {
      "cell_type": "markdown",
      "metadata": {
        "id": "view-in-github",
        "colab_type": "text"
      },
      "source": [
        "<a href=\"https://colab.research.google.com/github/souadsoo/gitgit/blob/master/DNN.ipynb\" target=\"_parent\"><img src=\"https://colab.research.google.com/assets/colab-badge.svg\" alt=\"Open In Colab\"/></a>"
      ]
    },
    {
      "cell_type": "markdown",
      "source": [
        "Un réseau de neurones profond (DNN, ou Deep Neural Network) est un type de modèle d'apprentissage automatique qui utilise plusieurs couches de neurones pour apprendre des représentations complexes des données. Voici un exemple simple de mise en œuvre d'un DNN pour un débutant, en utilisant Python et la bibliothèque TensorFlow avec Keras. Cet exemple consiste à créer un modèle de classification pour le jeu de données MNIST, qui contient des images de chiffres manuscrits (0 à 9)."
      ],
      "metadata": {
        "id": "fLNFV_e_CIuT"
      }
    },
    {
      "cell_type": "code",
      "source": [
        "import tensorflow as tf\n",
        "from tensorflow.keras import layers, models\n",
        "from tensorflow.keras.datasets import mnist\n",
        "from tensorflow.keras.utils import to_categorical"
      ],
      "metadata": {
        "id": "xm6b9w86Bw6z"
      },
      "execution_count": null,
      "outputs": []
    },
    {
      "cell_type": "markdown",
      "source": [
        "# Chargement et prétraitement des données MNIST\n",
        "\n",
        "Ce code permet de charger et de prétraiter les données du jeu de données MNIST, qui est un ensemble de chiffres manuscrits couramment utilisé pour l'apprentissage automatique.\n",
        "\n",
        "## 1. Charger les données\n",
        "\n",
        "```python\n",
        "(x_train, y_train), (x_test, y_test) = mnist.load_data()"
      ],
      "metadata": {
        "id": "30Kh_9n_Cgdm"
      }
    },
    {
      "cell_type": "markdown",
      "source": [],
      "metadata": {
        "id": "EH4nMeTzCg-3"
      }
    },
    {
      "cell_type": "code",
      "source": [
        "# Charger les données\n",
        "(x_train, y_train), (x_test, y_test) = mnist.load_data()\n",
        "\n",
        "# Normaliser les valeurs des pixels entre 0 et 1\n",
        "x_train = x_train.astype('float32') / 255\n",
        "x_test = x_test.astype('float32') / 255\n",
        "\n",
        "# Redimensionner les images pour qu'elles correspondent à l'entrée du réseau\n",
        "x_train = x_train.reshape((x_train.shape[0], 28 * 28))  # 28x28 pixels -> 784 neurones en entrée\n",
        "x_test = x_test.reshape((x_test.shape[0], 28 * 28))\n",
        "\n",
        "# Encoder les étiquettes en one-hot encoding\n",
        "y_train = to_categorical(y_train, 10)  # 10 classes (chiffres de 0 à 9)\n",
        "y_test = to_categorical(y_test, 10)"
      ],
      "metadata": {
        "colab": {
          "base_uri": "https://localhost:8080/"
        },
        "id": "k0nfaQ06Bw9L",
        "outputId": "efbe8f0d-523c-4d8a-a664-9a8d957a98dc"
      },
      "execution_count": null,
      "outputs": [
        {
          "output_type": "stream",
          "name": "stdout",
          "text": [
            "Downloading data from https://storage.googleapis.com/tensorflow/tf-keras-datasets/mnist.npz\n",
            "\u001b[1m11490434/11490434\u001b[0m \u001b[32m━━━━━━━━━━━━━━━━━━━━\u001b[0m\u001b[37m\u001b[0m \u001b[1m2s\u001b[0m 0us/step\n"
          ]
        }
      ]
    },
    {
      "cell_type": "markdown",
      "source": [
        "**astype('float32')** : Convertit les valeurs des pixels en type float32 pour permettre des calculs flottants.\n",
        "\n",
        "***/ 255*** : Normalise les valeurs des pixels entre 0 et 1. Les images MNIST ont des valeurs de pixels comprises entre 0 et 255, donc diviser par 255 ramène ces valeurs à l'intervalle [0, 1]."
      ],
      "metadata": {
        "id": "I1kxeyeGCngI"
      }
    },
    {
      "cell_type": "markdown",
      "source": [
        "# Pourquoi les valeurs des pixels sont entre 0 et 255 ?\n",
        "\n",
        "## Représentation des pixels\n",
        "Les images en niveaux de gris sont composées de pixels, où chaque pixel représente une intensité de lumière :\n",
        "- **0** correspond au **noir pur** (absence de lumière).\n",
        "- **255** correspond au **blanc pur** (intensité maximale).\n",
        "- Les valeurs entre **0** et **255** représentent des **nuances de gris**.\n",
        "\n",
        "---\n",
        "\n",
        "## Codage sur 8 bits\n",
        "- Les valeurs des pixels sont généralement stockées sur **8 bits** (1 octet).\n",
        "- Un octet peut représenter \\( 2^8 = 256 \\) valeurs différentes, allant de **0** à **255**.\n",
        "\n",
        "---\n",
        "\n",
        "## Normalisation\n",
        "Pour faciliter les calculs dans les modèles de machine learning, il est courant de **normaliser** les valeurs des pixels entre 0 et 1.\n",
        "- Cela se fait en divisant chaque valeur de pixel par **255** :\n",
        "  \\[\n",
        "  \\text{Valeur normalisée} = \\frac{\\text{Valeur du pixel}}{255}\n",
        "  \\]\n",
        "- Exemple :\n",
        "  - Si un pixel a la valeur 128, alors :  \n",
        "$$\n",
        "\\text{Valeur normalisée} = \\frac{128}{255} \\approx 0.502\n",
        "$$\n",
        "\n",
        "\n",
        "---\n",
        "\n",
        "## Avantages de la normalisation\n",
        "1. **Amélioration des calculs** : Les algorithmes de machine learning et deep learning convergent plus rapidement avec des valeurs normalisées.\n",
        "2. **Consistance** : Permet d'avoir toutes les valeurs sur une échelle uniforme, facilitant l'interprétation et le traitement.\n",
        "3. **Compatibilité** : Les modèles modernes (comme les réseaux de neurones) fonctionnent mieux avec des données dans la plage [0, 1].\n",
        "\n",
        "---\n",
        "\n",
        "En résumé, les pixels sont représentés par des valeurs entre **0 et 255** grâce au codage sur 8 bits, et ces valeurs peuvent être normalisées pour améliorer les performances des modèles.\n"
      ],
      "metadata": {
        "id": "1o_U3OtSCsWt"
      }
    },
    {
      "cell_type": "markdown",
      "source": [
        "## Construire le modèle DNN"
      ],
      "metadata": {
        "id": "ij0B7_hfDUc6"
      }
    },
    {
      "cell_type": "markdown",
      "source": [
        "Nous allons créer un modèle simple avec deux couches cachées."
      ],
      "metadata": {
        "id": "W1RktFFoD1IH"
      }
    },
    {
      "cell_type": "code",
      "source": [
        "model = models.Sequential()\n",
        "\n",
        "# Couche d'entrée : 784 neurones (28x28 pixels)\n",
        "model.add(layers.Dense(1024, activation='relu', input_shape=(28 * 28,)))  # Première couche cachée\n",
        "model.add(layers.Dense(512, activation='relu'))  # Deuxième couche cachée\n",
        "model.add(layers.Dense(256, activation='relu'))  # Troisième couche cachée\n",
        "model.add(layers.Dense(128, activation='relu'))  # Quatrième couche cachée\n",
        "model.add(layers.Dense(64, activation='relu'))   # Cinquième couche cachée\n",
        "model.add(layers.Dense(10, activation='softmax'))  # Couche de sortie (10 classes)\n",
        "\n",
        "# Afficher un résumé du modèle\n",
        "model.summary()"
      ],
      "metadata": {
        "colab": {
          "base_uri": "https://localhost:8080/",
          "height": 376
        },
        "id": "Ca_ONZ8qDy3H",
        "outputId": "251e2797-752b-4f97-a23e-02faede3e72c"
      },
      "execution_count": null,
      "outputs": [
        {
          "output_type": "stream",
          "name": "stderr",
          "text": [
            "/usr/local/lib/python3.11/dist-packages/keras/src/layers/core/dense.py:87: UserWarning: Do not pass an `input_shape`/`input_dim` argument to a layer. When using Sequential models, prefer using an `Input(shape)` object as the first layer in the model instead.\n",
            "  super().__init__(activity_regularizer=activity_regularizer, **kwargs)\n"
          ]
        },
        {
          "output_type": "display_data",
          "data": {
            "text/plain": [
              "\u001b[1mModel: \"sequential\"\u001b[0m\n"
            ],
            "text/html": [
              "<pre style=\"white-space:pre;overflow-x:auto;line-height:normal;font-family:Menlo,'DejaVu Sans Mono',consolas,'Courier New',monospace\"><span style=\"font-weight: bold\">Model: \"sequential\"</span>\n",
              "</pre>\n"
            ]
          },
          "metadata": {}
        },
        {
          "output_type": "display_data",
          "data": {
            "text/plain": [
              "┏━━━━━━━━━━━━━━━━━━━━━━━━━━━━━━━━━━━━━━┳━━━━━━━━━━━━━━━━━━━━━━━━━━━━━┳━━━━━━━━━━━━━━━━━┓\n",
              "┃\u001b[1m \u001b[0m\u001b[1mLayer (type)                        \u001b[0m\u001b[1m \u001b[0m┃\u001b[1m \u001b[0m\u001b[1mOutput Shape               \u001b[0m\u001b[1m \u001b[0m┃\u001b[1m \u001b[0m\u001b[1m        Param #\u001b[0m\u001b[1m \u001b[0m┃\n",
              "┡━━━━━━━━━━━━━━━━━━━━━━━━━━━━━━━━━━━━━━╇━━━━━━━━━━━━━━━━━━━━━━━━━━━━━╇━━━━━━━━━━━━━━━━━┩\n",
              "│ dense (\u001b[38;5;33mDense\u001b[0m)                        │ (\u001b[38;5;45mNone\u001b[0m, \u001b[38;5;34m1024\u001b[0m)                │         \u001b[38;5;34m803,840\u001b[0m │\n",
              "├──────────────────────────────────────┼─────────────────────────────┼─────────────────┤\n",
              "│ dense_1 (\u001b[38;5;33mDense\u001b[0m)                      │ (\u001b[38;5;45mNone\u001b[0m, \u001b[38;5;34m512\u001b[0m)                 │         \u001b[38;5;34m524,800\u001b[0m │\n",
              "├──────────────────────────────────────┼─────────────────────────────┼─────────────────┤\n",
              "│ dense_2 (\u001b[38;5;33mDense\u001b[0m)                      │ (\u001b[38;5;45mNone\u001b[0m, \u001b[38;5;34m256\u001b[0m)                 │         \u001b[38;5;34m131,328\u001b[0m │\n",
              "├──────────────────────────────────────┼─────────────────────────────┼─────────────────┤\n",
              "│ dense_3 (\u001b[38;5;33mDense\u001b[0m)                      │ (\u001b[38;5;45mNone\u001b[0m, \u001b[38;5;34m128\u001b[0m)                 │          \u001b[38;5;34m32,896\u001b[0m │\n",
              "├──────────────────────────────────────┼─────────────────────────────┼─────────────────┤\n",
              "│ dense_4 (\u001b[38;5;33mDense\u001b[0m)                      │ (\u001b[38;5;45mNone\u001b[0m, \u001b[38;5;34m64\u001b[0m)                  │           \u001b[38;5;34m8,256\u001b[0m │\n",
              "├──────────────────────────────────────┼─────────────────────────────┼─────────────────┤\n",
              "│ dense_5 (\u001b[38;5;33mDense\u001b[0m)                      │ (\u001b[38;5;45mNone\u001b[0m, \u001b[38;5;34m10\u001b[0m)                  │             \u001b[38;5;34m650\u001b[0m │\n",
              "└──────────────────────────────────────┴─────────────────────────────┴─────────────────┘\n"
            ],
            "text/html": [
              "<pre style=\"white-space:pre;overflow-x:auto;line-height:normal;font-family:Menlo,'DejaVu Sans Mono',consolas,'Courier New',monospace\">┏━━━━━━━━━━━━━━━━━━━━━━━━━━━━━━━━━━━━━━┳━━━━━━━━━━━━━━━━━━━━━━━━━━━━━┳━━━━━━━━━━━━━━━━━┓\n",
              "┃<span style=\"font-weight: bold\"> Layer (type)                         </span>┃<span style=\"font-weight: bold\"> Output Shape                </span>┃<span style=\"font-weight: bold\">         Param # </span>┃\n",
              "┡━━━━━━━━━━━━━━━━━━━━━━━━━━━━━━━━━━━━━━╇━━━━━━━━━━━━━━━━━━━━━━━━━━━━━╇━━━━━━━━━━━━━━━━━┩\n",
              "│ dense (<span style=\"color: #0087ff; text-decoration-color: #0087ff\">Dense</span>)                        │ (<span style=\"color: #00d7ff; text-decoration-color: #00d7ff\">None</span>, <span style=\"color: #00af00; text-decoration-color: #00af00\">1024</span>)                │         <span style=\"color: #00af00; text-decoration-color: #00af00\">803,840</span> │\n",
              "├──────────────────────────────────────┼─────────────────────────────┼─────────────────┤\n",
              "│ dense_1 (<span style=\"color: #0087ff; text-decoration-color: #0087ff\">Dense</span>)                      │ (<span style=\"color: #00d7ff; text-decoration-color: #00d7ff\">None</span>, <span style=\"color: #00af00; text-decoration-color: #00af00\">512</span>)                 │         <span style=\"color: #00af00; text-decoration-color: #00af00\">524,800</span> │\n",
              "├──────────────────────────────────────┼─────────────────────────────┼─────────────────┤\n",
              "│ dense_2 (<span style=\"color: #0087ff; text-decoration-color: #0087ff\">Dense</span>)                      │ (<span style=\"color: #00d7ff; text-decoration-color: #00d7ff\">None</span>, <span style=\"color: #00af00; text-decoration-color: #00af00\">256</span>)                 │         <span style=\"color: #00af00; text-decoration-color: #00af00\">131,328</span> │\n",
              "├──────────────────────────────────────┼─────────────────────────────┼─────────────────┤\n",
              "│ dense_3 (<span style=\"color: #0087ff; text-decoration-color: #0087ff\">Dense</span>)                      │ (<span style=\"color: #00d7ff; text-decoration-color: #00d7ff\">None</span>, <span style=\"color: #00af00; text-decoration-color: #00af00\">128</span>)                 │          <span style=\"color: #00af00; text-decoration-color: #00af00\">32,896</span> │\n",
              "├──────────────────────────────────────┼─────────────────────────────┼─────────────────┤\n",
              "│ dense_4 (<span style=\"color: #0087ff; text-decoration-color: #0087ff\">Dense</span>)                      │ (<span style=\"color: #00d7ff; text-decoration-color: #00d7ff\">None</span>, <span style=\"color: #00af00; text-decoration-color: #00af00\">64</span>)                  │           <span style=\"color: #00af00; text-decoration-color: #00af00\">8,256</span> │\n",
              "├──────────────────────────────────────┼─────────────────────────────┼─────────────────┤\n",
              "│ dense_5 (<span style=\"color: #0087ff; text-decoration-color: #0087ff\">Dense</span>)                      │ (<span style=\"color: #00d7ff; text-decoration-color: #00d7ff\">None</span>, <span style=\"color: #00af00; text-decoration-color: #00af00\">10</span>)                  │             <span style=\"color: #00af00; text-decoration-color: #00af00\">650</span> │\n",
              "└──────────────────────────────────────┴─────────────────────────────┴─────────────────┘\n",
              "</pre>\n"
            ]
          },
          "metadata": {}
        },
        {
          "output_type": "display_data",
          "data": {
            "text/plain": [
              "\u001b[1m Total params: \u001b[0m\u001b[38;5;34m1,501,770\u001b[0m (5.73 MB)\n"
            ],
            "text/html": [
              "<pre style=\"white-space:pre;overflow-x:auto;line-height:normal;font-family:Menlo,'DejaVu Sans Mono',consolas,'Courier New',monospace\"><span style=\"font-weight: bold\"> Total params: </span><span style=\"color: #00af00; text-decoration-color: #00af00\">1,501,770</span> (5.73 MB)\n",
              "</pre>\n"
            ]
          },
          "metadata": {}
        },
        {
          "output_type": "display_data",
          "data": {
            "text/plain": [
              "\u001b[1m Trainable params: \u001b[0m\u001b[38;5;34m1,501,770\u001b[0m (5.73 MB)\n"
            ],
            "text/html": [
              "<pre style=\"white-space:pre;overflow-x:auto;line-height:normal;font-family:Menlo,'DejaVu Sans Mono',consolas,'Courier New',monospace\"><span style=\"font-weight: bold\"> Trainable params: </span><span style=\"color: #00af00; text-decoration-color: #00af00\">1,501,770</span> (5.73 MB)\n",
              "</pre>\n"
            ]
          },
          "metadata": {}
        },
        {
          "output_type": "display_data",
          "data": {
            "text/plain": [
              "\u001b[1m Non-trainable params: \u001b[0m\u001b[38;5;34m0\u001b[0m (0.00 B)\n"
            ],
            "text/html": [
              "<pre style=\"white-space:pre;overflow-x:auto;line-height:normal;font-family:Menlo,'DejaVu Sans Mono',consolas,'Courier New',monospace\"><span style=\"font-weight: bold\"> Non-trainable params: </span><span style=\"color: #00af00; text-decoration-color: #00af00\">0</span> (0.00 B)\n",
              "</pre>\n"
            ]
          },
          "metadata": {}
        }
      ]
    },
    {
      "cell_type": "markdown",
      "source": [
        "## Compiler le modèle"
      ],
      "metadata": {
        "id": "m1wZs_xJD5PT"
      }
    },
    {
      "cell_type": "code",
      "source": [
        "model.compile(optimizer='adam',  # Optimiseur Adam\n",
        "              loss='categorical_crossentropy',  # Fonction de perte pour la classification\n",
        "              metrics=['accuracy'])  # Métrique : précision"
      ],
      "metadata": {
        "id": "gngvccofD6Xx"
      },
      "execution_count": null,
      "outputs": []
    },
    {
      "cell_type": "markdown",
      "source": [
        "## Entraîner le modèle"
      ],
      "metadata": {
        "id": "eVZiaLQSD9jK"
      }
    },
    {
      "cell_type": "code",
      "source": [
        "test_loss, test_acc = model.evaluate(x_test, y_test)\n",
        "print(f\"Précision sur les données de test : {test_acc:.4f}\")"
      ],
      "metadata": {
        "colab": {
          "base_uri": "https://localhost:8080/"
        },
        "id": "pqsRdSstD4uY",
        "outputId": "b6bf1a97-2fea-4272-b8e3-ef4765b68450"
      },
      "execution_count": null,
      "outputs": [
        {
          "output_type": "stream",
          "name": "stdout",
          "text": [
            "\u001b[1m313/313\u001b[0m \u001b[32m━━━━━━━━━━━━━━━━━━━━\u001b[0m\u001b[37m\u001b[0m \u001b[1m3s\u001b[0m 7ms/step - accuracy: 0.1130 - loss: 2.3081\n",
            "Précision sur les données de test : 0.1150\n"
          ]
        }
      ]
    },
    {
      "cell_type": "markdown",
      "source": [
        "## Faire des prédictions"
      ],
      "metadata": {
        "id": "_a-xXl50EC_h"
      }
    },
    {
      "cell_type": "code",
      "source": [
        "predictions = model.predict(x_test)\n",
        "# predictions contient les probabilités pour chaque classe"
      ],
      "metadata": {
        "colab": {
          "base_uri": "https://localhost:8080/"
        },
        "id": "vcwTIFpGEGiV",
        "outputId": "26d07825-b1ad-4671-eb8a-a0070c2909ce"
      },
      "execution_count": null,
      "outputs": [
        {
          "output_type": "stream",
          "name": "stdout",
          "text": [
            "\u001b[1m313/313\u001b[0m \u001b[32m━━━━━━━━━━━━━━━━━━━━\u001b[0m\u001b[37m\u001b[0m \u001b[1m2s\u001b[0m 6ms/step\n"
          ]
        }
      ]
    },
    {
      "cell_type": "code",
      "source": [
        "import tensorflow as tf\n",
        "from tensorflow.keras import models, layers\n",
        "from tensorflow.keras.datasets import mnist\n",
        "from tensorflow.keras.utils import to_categorical\n",
        "\n",
        "# 1. Charger les données MNIST\n",
        "(x_train, y_train), (x_test, y_test) = mnist.load_data()\n",
        "\n",
        "# 2. Prétraitement des données\n",
        "x_train = x_train.reshape((x_train.shape[0], 28 * 28)) / 255.0  # Normalisation et aplatissement\n",
        "x_test = x_test.reshape((x_test.shape[0], 28 * 28)) / 255.0\n",
        "\n",
        "# One-hot encoding des labels\n",
        "y_train = to_categorical(y_train, 10)\n",
        "y_test = to_categorical(y_test, 10)\n",
        "\n",
        "# 3. Définir le modèle\n",
        "model = models.Sequential()\n",
        "\n",
        "# Couche d'entrée et première couche cachée\n",
        "model.add(layers.Dense(1024, activation='relu', input_shape=(28 * 28,)))\n",
        "model.add(layers.Dropout(0.3))  # Ajouter du dropout pour éviter le surapprentissage\n",
        "\n",
        "# Deuxième couche cachée\n",
        "model.add(layers.Dense(512, activation='relu'))\n",
        "model.add(layers.Dropout(0.3))\n",
        "\n",
        "# Troisième couche cachée\n",
        "model.add(layers.Dense(256, activation='relu'))\n",
        "\n",
        "# Couche de sortie (10 classes pour les chiffres de 0 à 9)\n",
        "model.add(layers.Dense(10, activation='softmax'))\n",
        "\n",
        "# 4. Compiler le modèle\n",
        "model.compile(optimizer='adam',  # Optimiseur Adam\n",
        "              loss='categorical_crossentropy',  # Fonction de perte pour la classification multi-classes\n",
        "              metrics=['accuracy'])\n",
        "\n",
        "# 5. Entraîner le modèle\n",
        "model.fit(x_train, y_train, epochs=10, batch_size=128, validation_split=0.2)\n",
        "\n",
        "# 6. Évaluer le modèle sur les données de test\n",
        "test_loss, test_accuracy = model.evaluate(x_test, y_test)\n",
        "print(f\"Précision sur le jeu de test : {test_accuracy:.2f}\")\n"
      ],
      "metadata": {
        "colab": {
          "base_uri": "https://localhost:8080/"
        },
        "id": "7cL5lJG0ECax",
        "outputId": "f1ddb663-a789-4534-b59b-1610c9ca1617"
      },
      "execution_count": null,
      "outputs": [
        {
          "output_type": "stream",
          "name": "stdout",
          "text": [
            "Epoch 1/10\n",
            "\u001b[1m375/375\u001b[0m \u001b[32m━━━━━━━━━━━━━━━━━━━━\u001b[0m\u001b[37m\u001b[0m \u001b[1m17s\u001b[0m 41ms/step - accuracy: 0.8444 - loss: 0.4990 - val_accuracy: 0.9601 - val_loss: 0.1299\n",
            "Epoch 2/10\n",
            "\u001b[1m375/375\u001b[0m \u001b[32m━━━━━━━━━━━━━━━━━━━━\u001b[0m\u001b[37m\u001b[0m \u001b[1m16s\u001b[0m 42ms/step - accuracy: 0.9609 - loss: 0.1257 - val_accuracy: 0.9697 - val_loss: 0.0953\n",
            "Epoch 3/10\n",
            "\u001b[1m375/375\u001b[0m \u001b[32m━━━━━━━━━━━━━━━━━━━━\u001b[0m\u001b[37m\u001b[0m \u001b[1m19s\u001b[0m 39ms/step - accuracy: 0.9748 - loss: 0.0823 - val_accuracy: 0.9753 - val_loss: 0.0809\n",
            "Epoch 4/10\n",
            "\u001b[1m375/375\u001b[0m \u001b[32m━━━━━━━━━━━━━━━━━━━━\u001b[0m\u001b[37m\u001b[0m \u001b[1m22s\u001b[0m 42ms/step - accuracy: 0.9783 - loss: 0.0677 - val_accuracy: 0.9753 - val_loss: 0.0923\n",
            "Epoch 5/10\n",
            "\u001b[1m375/375\u001b[0m \u001b[32m━━━━━━━━━━━━━━━━━━━━\u001b[0m\u001b[37m\u001b[0m \u001b[1m19s\u001b[0m 38ms/step - accuracy: 0.9822 - loss: 0.0560 - val_accuracy: 0.9762 - val_loss: 0.0881\n",
            "Epoch 6/10\n",
            "\u001b[1m375/375\u001b[0m \u001b[32m━━━━━━━━━━━━━━━━━━━━\u001b[0m\u001b[37m\u001b[0m \u001b[1m15s\u001b[0m 39ms/step - accuracy: 0.9841 - loss: 0.0492 - val_accuracy: 0.9787 - val_loss: 0.0810\n",
            "Epoch 7/10\n",
            "\u001b[1m375/375\u001b[0m \u001b[32m━━━━━━━━━━━━━━━━━━━━\u001b[0m\u001b[37m\u001b[0m \u001b[1m20s\u001b[0m 38ms/step - accuracy: 0.9860 - loss: 0.0444 - val_accuracy: 0.9772 - val_loss: 0.0804\n",
            "Epoch 8/10\n",
            "\u001b[1m375/375\u001b[0m \u001b[32m━━━━━━━━━━━━━━━━━━━━\u001b[0m\u001b[37m\u001b[0m \u001b[1m21s\u001b[0m 39ms/step - accuracy: 0.9871 - loss: 0.0422 - val_accuracy: 0.9800 - val_loss: 0.0771\n",
            "Epoch 9/10\n",
            "\u001b[1m375/375\u001b[0m \u001b[32m━━━━━━━━━━━━━━━━━━━━\u001b[0m\u001b[37m\u001b[0m \u001b[1m20s\u001b[0m 38ms/step - accuracy: 0.9873 - loss: 0.0372 - val_accuracy: 0.9797 - val_loss: 0.0797\n",
            "Epoch 10/10\n",
            "\u001b[1m375/375\u001b[0m \u001b[32m━━━━━━━━━━━━━━━━━━━━\u001b[0m\u001b[37m\u001b[0m \u001b[1m14s\u001b[0m 38ms/step - accuracy: 0.9879 - loss: 0.0378 - val_accuracy: 0.9787 - val_loss: 0.0850\n",
            "\u001b[1m313/313\u001b[0m \u001b[32m━━━━━━━━━━━━━━━━━━━━\u001b[0m\u001b[37m\u001b[0m \u001b[1m2s\u001b[0m 6ms/step - accuracy: 0.9770 - loss: 0.0886\n",
            "Précision sur le jeu de test : 0.98\n"
          ]
        }
      ]
    }
  ]
}